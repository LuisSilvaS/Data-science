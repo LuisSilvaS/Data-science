{
  "cells": [
    {
      "cell_type": "markdown",
      "metadata": {
        "id": "view-in-github",
        "colab_type": "text"
      },
      "source": [
        "<a href=\"https://colab.research.google.com/github/LuisSilvaS/Data-science/blob/main/predi_o_de_c_ncer_de_mama_com_knn.ipynb\" target=\"_parent\"><img src=\"https://colab.research.google.com/assets/colab-badge.svg\" alt=\"Open In Colab\"/></a>"
      ]
    },
    {
      "cell_type": "markdown",
      "metadata": {
        "id": "jBKEX8zV7NZL"
      },
      "source": [
        "# Introdução"
      ]
    },
    {
      "cell_type": "markdown",
      "metadata": {
        "id": "oC_IFpwy7NZM"
      },
      "source": [
        "Recentemente, a quantidade de dados produzidos dentro de empresas, universidades, comércio e no mercado tem ganhado grande relevância, tanto pela quantidade de dados produzidos devido ao fácil compartilhamento, envio e recebimento, quanto pela necessidade de entender esses dados e transformá-los em informação útil para apoio na tomada de decisão dentro dessas entidades. Nesse processo de compreensão dos dados, existem téncias denonminadas mineração de dados, que visam explorar grandes quantidades de dados com o intuito de encontrar padrões relevantes e consistentes no relacionamento entre os atributos (basicamente, colunas de tabelas) dessas bases de dados. \n",
        "\n",
        "Uma das primeiras técnicas desenvolvidas nesse sentido foi o  KDD (em inglês, *Knowledge Discovery in Database*), desenvolvido durante o final da década de 1980. A extração de conhecimento a partir de uma base de dados é dividida em fases: coleta de dados -> tratamento dos dados -> resultado final (transformação dos dados em informações e posteriormente em conhecimento).\n",
        "\n",
        "O processo KDD foi constituído visando automatizar o processo de extração de conhecimento a partir de uma grande base de dados. É um processo iterativo, isto é, cada etapa pode ser repetida até que se tenham os resultados satisfatórios. \n",
        "\n",
        "As etapas do KDD, segundo Fayyad et al (1996) são as seguintes:\n",
        "\n",
        "- Seleção: é a etapa de agrupamento dos dados de modo organizado. É uma etapa muito importante, pois é nela que serão decididos quais os conjuntos de dados que serão relevantes para que sejam obtidos resultados com informações uteis.\n",
        "- \tPré-processamento: neste momento os dados passam por uma adequação. Ao final do processo, devem possuir o formato correto e não apresentar duplicidade, entre outras características. Consiste numa a limpeza dos dados e seleção de atributos. Nesta etapa, informações ausentes, errôneas ou inconsistentes nas bases de dados devem ser corrigidas de forma a não comprometer a qualidade dos modelos de conhecimento a serem extraídos ao final do processo de KDD.\n",
        "-\tTransformação: é a etapa de armazenamento dos dados de forma a facilitar o uso das técnicas de Data Mining. Esta etapa analisa os dados obtidos na etapa anterior e os reorganiza de uma forma especifica para que possam ser interpretados na etapa seguinte.\n",
        "-\tMineração de Dados: é a principal atividade do processo de descoberta do conhecimento. Nesta fase  são aplicados algoritmos de descoberta de padrões. A mineração faz com que meros dados sejam transformados em informações.\n",
        "-\tInterpretação e avaliação: esta fase consiste em interpretar os dados gerados e verificar se possuem alguma validade para o problema proposto. Esta é a fase na qual as regras indicadas pelo processo anterior serão interpretadas e avaliadas. Após a interpretação poderão surgir padrões, relacionamentos e descoberta de novos fatos, que podem ser utilizados para pesquisas, otimização e outros.\n",
        "\n",
        "Neste trabalho, pode-se entender as fases do KDD para uma base de dados na qual existe uma série de atributos de análise de imagens de células na região do câncer feitos com ultrassonografia para prever se um câncer de mama é benigno ou malígno. Basicamente, os tumores benignos são constituídos por células bem semelhantes às que os originaram e não possuem a capacidade de provocar metástases. Já os malignos são agressivos e possuem a capacidade de infiltrar outros órgãos.\n",
        "Fonte: https://www.einstein.br/noticias/noticia/cancer-benigno-maligno\n",
        "\n",
        "Após a extração dos dados da plataforma Kaggle (www.kaggle.com) foi realizado um pré-processamento para garantir que os dados lidos e interpretados sejam relevantes para o processo de extração de conhecimento. Após isso, foi implementada a transformação dos dados em si, através do algoritmo KNN. Por fim, foram feitas as previsões a partir de novos dados, isto é, após o aprendizado realizado pelo algoritmo KNN sobre a base de dados, novas entradas de dados buscaram classificar se uma nova entrada de fotos de células seria um câncer beingno ou maligno, baseado no aprendizado anterior. Foi traçada uma avaliação para essas previsões, de modo a se obter uma acurácia e concluir se o modelo contruído é bom ou ruim nas suas previsões.\n",
        "\n",
        "\n",
        "Cada classificação foi calculada a partir de uma imagens digitalizadas de uma região de células afetadas nas glândulas mamárias. Essas imagens descrevem características dos núcleos celulares presentes e das células.\n",
        "\n",
        "As seguintes seções desse trabalho se referem às etapas do KDD e a conclusão do trabalho:\n",
        "- Seleção dos dados, \n",
        "- Pré-processamento , \n",
        "- Transformação, \n",
        "- Mineração de Dados, \n",
        "- Avaliação (do modelo),\n",
        "- Conclusão\n"
      ]
    },
    {
      "cell_type": "markdown",
      "metadata": {
        "id": "nKHkTsri7NZM"
      },
      "source": [
        "# Seleção dos Dados"
      ]
    },
    {
      "cell_type": "markdown",
      "metadata": {
        "id": "X440QNVO7NZN"
      },
      "source": [
        "A fase de seleção dos dados é a primeira no processo de descoberta do conhecimento nas atividades de *machine learning* e ciências dos dados.\n",
        "Nesta fase é escolhido o conjunto de dados contendo todas as possíveis variáveis, também chamadas de características ou atributos, que farão parte da análise.\n",
        "A etapa de seleção possui impacto significante sobre a qualidade do resultado do processo.\n",
        "\n",
        "Os dados que iremos utilizar pertencem a uma base de dados sobre diagnóstico de câncer de mama disponível na plataforma Kaggle . (https://www.kaggle.com/uciml/breast-cancer-wisconsin-data)"
      ]
    },
    {
      "cell_type": "code",
      "execution_count": null,
      "metadata": {
        "execution": {
          "iopub.execute_input": "2022-08-30T19:24:35.396811Z",
          "iopub.status.busy": "2022-08-30T19:24:35.396368Z",
          "iopub.status.idle": "2022-08-30T19:24:36.617684Z",
          "shell.execute_reply": "2022-08-30T19:24:36.615832Z",
          "shell.execute_reply.started": "2022-08-30T19:24:35.396775Z"
        },
        "id": "ip6cTtcA7NZO"
      },
      "outputs": [],
      "source": [
        "# Carregar as bibliotecas necessárias: \n",
        "\n",
        "import seaborn as sns\n",
        "import matplotlib.pyplot as plt\n",
        "import pandas as pd\n",
        "import numpy as np\n",
        "from sklearn.neighbors import KNeighborsClassifier\n",
        "from sklearn.model_selection import train_test_split\n",
        "from sklearn.model_selection import cross_val_score \n",
        "import sklearn.metrics\n",
        "\n",
        "\n",
        "# Carregar a base de dados:\n",
        "rout_path = \"../input/data.csv\"\n",
        "dados = pd.read_csv(rout_path)"
      ]
    },
    {
      "cell_type": "markdown",
      "metadata": {
        "id": "Qkn9GMez7NZS"
      },
      "source": [
        "# Pré-processamento "
      ]
    },
    {
      "cell_type": "markdown",
      "metadata": {
        "id": "JR9qUAOG7NZS"
      },
      "source": [
        "A etapa de pre-processamento é crucial no processo, pois a qualidade dos dados vai determinar a eficiência dos algoritmos de mineração.\n",
        "Nesta etapa são realizadas tarefas que eliminam dados redundantes e inconsistentes, recuperem dados incompletos e avaliam possíveis dados discrepantes ao conjunto (*outliers*). \n",
        "Nesta etapa também são utilizados métodos de redução ou transformação para diminuir o número\n",
        "de variáveis envolvidas no processo, visando com isto melhorar o desempenho do algoritmo que será usado na análise dos dados.\n",
        "\n"
      ]
    },
    {
      "cell_type": "code",
      "execution_count": null,
      "metadata": {
        "execution": {
          "iopub.execute_input": "2022-08-30T19:24:44.545299Z",
          "iopub.status.busy": "2022-08-30T19:24:44.544691Z",
          "iopub.status.idle": "2022-08-30T19:24:44.625440Z",
          "shell.execute_reply": "2022-08-30T19:24:44.624981Z",
          "shell.execute_reply.started": "2022-08-30T19:24:44.544916Z"
        },
        "id": "wcQUCXqi7NZT"
      },
      "outputs": [],
      "source": [
        "# Mostrar detalhes dos 5 primeiros registros da base:\n",
        "\n",
        "dados.head() "
      ]
    },
    {
      "cell_type": "markdown",
      "metadata": {
        "id": "kS1eDPBi7NZZ"
      },
      "source": [
        "A seguir, a classe objetivo, no caso a coluna \"diagnosis\", é separada dos demais atributos, que são efetivamente os dados que serão analisados\n",
        "\n",
        "Também são removidas as colunas com informações que não são relevantes: 'id' (número de identificação do registro) e 'Unnamed: 32' (coluna com valor faltante para todos os registros).\n",
        "\n",
        "Nos parâmetros exibidos a seguir, é notória a diferença entre os valores absolutos de alguns atributos, como por exemplo o valor da área e o valor da concavidade. Desse modo, para algumas exibições gráficas nas seções adiante, será necessária a normalização dos dados."
      ]
    },
    {
      "cell_type": "code",
      "execution_count": null,
      "metadata": {
        "execution": {
          "iopub.execute_input": "2022-08-30T19:24:55.174172Z",
          "iopub.status.busy": "2022-08-30T19:24:55.173676Z",
          "iopub.status.idle": "2022-08-30T19:24:55.232369Z",
          "shell.execute_reply": "2022-08-30T19:24:55.230675Z",
          "shell.execute_reply.started": "2022-08-30T19:24:55.174121Z"
        },
        "id": "t50g-YrG7NZa"
      },
      "outputs": [],
      "source": [
        "# Colocar no vetor Y os valores da classe objetivo\n",
        "\n",
        "Y = dados.diagnosis                         \n",
        "\n",
        "\n",
        "# Fazer a remoção das colunas desnecessárias\n",
        "\n",
        "list = ['Unnamed: 32','id','diagnosis']        # lista com as colunas a serem removidas\n",
        "X = dados.drop(list,axis = 1 )          \n",
        "X.head()\n"
      ]
    },
    {
      "cell_type": "markdown",
      "metadata": {
        "id": "wuW51rWtJfqO"
      },
      "source": [
        "## Visualização\n"
      ]
    },
    {
      "cell_type": "markdown",
      "metadata": {
        "id": "1Z43YOdiJqoK"
      },
      "source": [
        "Para visualizar os dados será utilizada a biblioteca seaborn para plotar graficos úteis para compreensão das informações a respeito dos atributos da base de dados.\n"
      ]
    },
    {
      "cell_type": "markdown",
      "metadata": {
        "id": "0XKRqiX2KiwG"
      },
      "source": [
        "### Número total de registros para cada classe \n",
        "\n",
        "\n"
      ]
    },
    {
      "cell_type": "code",
      "execution_count": null,
      "metadata": {
        "execution": {
          "iopub.execute_input": "2022-08-30T19:25:05.540307Z",
          "iopub.status.busy": "2022-08-30T19:25:05.539903Z",
          "iopub.status.idle": "2022-08-30T19:25:05.729368Z",
          "shell.execute_reply": "2022-08-30T19:25:05.728732Z",
          "shell.execute_reply.started": "2022-08-30T19:25:05.540122Z"
        },
        "id": "eJeNwxB47NZg"
      },
      "outputs": [],
      "source": [
        "ax = sns.countplot(Y,label=\"Quantidade\")       # M = 212, B = 357\n",
        "B, M = Y.value_counts()\n",
        "print('Quantidade de Benignos: ',B)\n",
        "print('Quantidade de Malignos: ',M)"
      ]
    },
    {
      "cell_type": "markdown",
      "metadata": {
        "id": "_JamFxBi7NZk"
      },
      "source": [
        "### Ver como os dados se comportam"
      ]
    },
    {
      "cell_type": "markdown",
      "metadata": {
        "id": "MjTwbOF87NZl"
      },
      "source": [
        "Para uma melhor compreensão dos dados podemos observar como eles se comportam. \n",
        "Após a execução a primeira tabela a seguir mostrará os seguintes dados estatísticos sobre os dados:\n",
        "soma, média, desvio padrão, valor 25% 50%(mediana) e 75% , máximo e mínimo ."
      ]
    },
    {
      "cell_type": "code",
      "execution_count": null,
      "metadata": {
        "execution": {
          "iopub.execute_input": "2022-08-30T19:25:16.437074Z",
          "iopub.status.busy": "2022-08-30T19:25:16.436853Z",
          "iopub.status.idle": "2022-08-30T19:25:16.558340Z",
          "shell.execute_reply": "2022-08-30T19:25:16.557319Z",
          "shell.execute_reply.started": "2022-08-30T19:25:16.437046Z"
        },
        "id": "KIPkWnOF7NZl"
      },
      "outputs": [],
      "source": [
        "# mostra soma, média , desvio padrão, min, max, valor dos 25%, 50%(mediana) e 75%\n",
        "\n",
        "X.describe() "
      ]
    },
    {
      "cell_type": "markdown",
      "metadata": {
        "id": "RaNztHdUq8GS"
      },
      "source": [
        "### Explicação dos atributos\n",
        "\n",
        "Os atributos são divididos em três grupos: Mean, SE e Worst.\n",
        "\n",
        "> Mean: média de todas as células;\n",
        "\n",
        "> SE: *Standard Error* (erro padrão de todas as células);\n",
        "\n",
        "> Worst: média dos três piores valores medidos das células. Na verdade, é considerado \"pior\" porque são medidas indicativas de células não saudáveis; na realidade o \"pior\" significa os maiores valores medidos para raio, perímetro, textura etc.\n",
        "\n",
        "Cada grupo tem 10 atributos: \n",
        "- radius (raio da célula)\n",
        "- texture (textura da célula - medida pelo desvio padrão de escalas de cinza, que ajudam a indicar se a célula é saudável ou não)\n",
        "-\tperimeter (perímetro)\n",
        "-\tarea (área)\n",
        "-\tsmoothness (variação local em comprimentos de raio)\n",
        "- compactness (campactude = perimetro²/area - 1)\n",
        "- concavity (gravidade das porções côncavas das células)\n",
        "- concave points (número de porções côncavas no contorno da célula),\n",
        "- symmetry (simetria) \n",
        "- fractal_dimension (dimensão fractal). \n",
        "\n",
        "\n",
        "\n"
      ]
    },
    {
      "cell_type": "markdown",
      "metadata": {
        "id": "TWFoV9eo7NZq"
      },
      "source": [
        "\n",
        "## **Mapa de calor para os dados limpos**\n",
        "\n",
        "No mapa de calor é feita uma regressão linear de todos os atributos combinados 2 a 2, e o valor que aparece nas células do mapa de calor são os coeficientes angulares de um atributo em relação ao outro, resultante da regressão linear. \n",
        "Para exemplificar, o valor que aparece nas células da diagonal principal, é o coeficiente angular de um atributo em relação a ele mesmo, logo o valor é 1. Se o coefiente angular é positivo, significa que quando o atributo do eixo horizontal cresce, o atributo do eixo vertical também cresce com taxa de variação igual ao valor do coeficiente angular. Se o coeficiente angular é negativo,  significa que quando o atributo do eixo horizontal cresce, o do eixo vertical  decresce com taxa de variação igual ao módulo do coeficiente angular. Por fim, caso o coeficiente seja zero, significa que as duas variáveis não dependem linearmente uma da outra. Nesses casos pode existir uma dependência não-linear, que seria necessário investigá-la por outros meios. \n",
        "\n",
        "\n",
        "\n"
      ]
    },
    {
      "cell_type": "code",
      "execution_count": null,
      "metadata": {
        "execution": {
          "iopub.execute_input": "2022-08-30T19:25:27.084057Z",
          "iopub.status.busy": "2022-08-30T19:25:27.083788Z",
          "iopub.status.idle": "2022-08-30T19:25:31.237360Z",
          "shell.execute_reply": "2022-08-30T19:25:31.236783Z",
          "shell.execute_reply.started": "2022-08-30T19:25:27.084012Z"
        },
        "id": "pm6qxLIu7NZr"
      },
      "outputs": [],
      "source": [
        "# Mostrar mapa de calor \n",
        "\n",
        "f,ax = plt.subplots(figsize=(18, 18))\n",
        "sns.heatmap(X.corr(), annot=True, fmt= '.1f', cmap ='RdYlGn')"
      ]
    },
    {
      "cell_type": "markdown",
      "metadata": {
        "id": "j2KKAK_IZQvw"
      },
      "source": [
        "Para melhor visualizar o mapa de calor, foram separados os grupos Mean, SE e Worst.\n",
        "\n",
        "A ideia do heatmap aqui é entender como os atributos se relacionam. Caso tenham grande correlação, é um indicativo de multicolinearidade, que pode levar a resultados distorcidos. Existem várias maneiras de lidar com esse problema, como por exemplo o uso de PCA (*Principal Component Analysis*). Contudo, a abordagem utilizada será mais simples, que é a de simplesmente escolher um dos atributos para manter na base e eliminar os outros que tenham alta correlação com ele. \n",
        "\n",
        "PS: algoritmos que usam ávores de decisão evitam problemas de multicolinearidade naturalmente em sua implementação."
      ]
    },
    {
      "cell_type": "markdown",
      "metadata": {
        "id": "7MSdeN0waZ16"
      },
      "source": [
        "A decisão de implementação foi de deletar os atributos com correlação maior ou igual a 0.9."
      ]
    },
    {
      "cell_type": "code",
      "execution_count": null,
      "metadata": {
        "execution": {
          "iopub.execute_input": "2022-08-30T19:25:40.940982Z",
          "iopub.status.busy": "2022-08-30T19:25:40.940610Z",
          "iopub.status.idle": "2022-08-30T19:25:41.872284Z",
          "shell.execute_reply": "2022-08-30T19:25:41.871030Z",
          "shell.execute_reply.started": "2022-08-30T19:25:40.940950Z"
        },
        "id": "MU0NEyIBlhYC"
      },
      "outputs": [],
      "source": [
        "droplist_se_worst = ['radius_se', \t'texture_se',\t'perimeter_se',\t'area_se',\t'smoothness_se',\t'compactness_se',\t'concavity_se',\t'concave points_se',\t'symmetry_se',\t'fractal_dimension_se', 'radius_worst',\t'texture_worst',\t'perimeter_worst',\t'area_worst',\t'smoothness_worst',\t'compactness_worst',\t'concavity_worst',\t'concave points_worst',\t'symmetry_worst',\t'fractal_dimension_worst']\n",
        "\n",
        "somente_mean = X.drop(droplist_se_worst, axis = 1)\n",
        "f,ax = plt.subplots(figsize=(10, 10))\n",
        "sns.heatmap(somente_mean.corr(), annot=True, linewidths=.5, fmt= '.3f', cmap ='RdYlGn')"
      ]
    },
    {
      "cell_type": "markdown",
      "metadata": {
        "id": "xbqP5LKNaxHv"
      },
      "source": [
        "- Os atributos radius_mean, perimeter_mean e\tarea_mean possuem correlação acima de 0.9, então iremos remover os atributos radius_mean e perimeter_mean (escolha arbitrária)\n",
        "- Os atributos concavity_mean e concave points_mean possuem correlação acima de 0.9, então iremos remover o atributo concavity_mean (escolha arbitrária)\n",
        "\n",
        "Portanto, nesse primeiro grupo, os atributos que continuarão serão: area_mean, texture_mean, smoothness_mean, compactness_mean, concave points_mean, symmetry_mean e fractal_dimension_mean\n",
        "\n"
      ]
    },
    {
      "cell_type": "code",
      "execution_count": null,
      "metadata": {
        "execution": {
          "iopub.execute_input": "2022-08-30T19:25:47.955361Z",
          "iopub.status.busy": "2022-08-30T19:25:47.955118Z",
          "iopub.status.idle": "2022-08-30T19:25:48.892080Z",
          "shell.execute_reply": "2022-08-30T19:25:48.891366Z",
          "shell.execute_reply.started": "2022-08-30T19:25:47.955331Z"
        },
        "id": "aNBwZsuIkfjY"
      },
      "outputs": [],
      "source": [
        "droplist_mean_worst = ['radius_mean', 'texture_mean',\t'perimeter_mean',\t'area_mean', \t'smoothness_mean', 'compactness_mean', 'concavity_mean', 'concave points_mean',\t'symmetry_mean',\t'fractal_dimension_mean', 'radius_worst',\t'texture_worst',\t'perimeter_worst',\t'area_worst',\t'smoothness_worst',\t'compactness_worst',\t'concavity_worst',\t'concave points_worst',\t'symmetry_worst',\t'fractal_dimension_worst']\n",
        "\n",
        "somente_se = X.drop(droplist_mean_worst, axis = 1)\n",
        "f,ax = plt.subplots(figsize=(10, 10))\n",
        "sns.heatmap(somente_se.corr(), annot=True, linewidths=.5, fmt= '.3f', cmap ='RdYlGn')"
      ]
    },
    {
      "cell_type": "markdown",
      "metadata": {
        "id": "s8iidRUcdcpf"
      },
      "source": [
        "- Os atributos radius_se, perimeter_se e  area_se possuem correlação acima de 0.9, então iremos remover os atributos perímetro e raio (escolha arbitrária)\n",
        "\n",
        "Portanto, nesse segundo grupo, os atributos que continuarão serão: area_se, texture_se, smoothness_se, compactness_se, concavity_se, concave points_se, symmetry_se e fractal_dimension_se"
      ]
    },
    {
      "cell_type": "code",
      "execution_count": null,
      "metadata": {
        "execution": {
          "iopub.execute_input": "2022-08-30T19:25:53.436079Z",
          "iopub.status.busy": "2022-08-30T19:25:53.435861Z",
          "iopub.status.idle": "2022-08-30T19:25:54.383078Z",
          "shell.execute_reply": "2022-08-30T19:25:54.382270Z",
          "shell.execute_reply.started": "2022-08-30T19:25:53.436051Z"
        },
        "id": "lueVJGc3lJnm"
      },
      "outputs": [],
      "source": [
        "droplist_mean_se = ['radius_mean', 'texture_mean',\t'perimeter_mean',\t'area_mean', \t'smoothness_mean', 'compactness_mean', 'concavity_mean', 'concave points_mean',\t'symmetry_mean',\t'fractal_dimension_mean', 'radius_se', \t'texture_se',\t'perimeter_se',\t'area_se',\t'smoothness_se',\t'compactness_se',\t'concavity_se',\t'concave points_se',\t'symmetry_se',\t'fractal_dimension_se']\n",
        "\n",
        "somente_worst = X.drop(droplist_mean_se, axis = 1)\n",
        "f,ax = plt.subplots(figsize=(10, 10))\n",
        "\n",
        "\n",
        "sns.heatmap(somente_worst.corr(), annot=True, linewidths=.5, fmt= '.3f', cmap ='RdYlGn')"
      ]
    },
    {
      "cell_type": "markdown",
      "metadata": {
        "id": "JUMCwm0SeneO"
      },
      "source": [
        "- Os atributos radius_worst, perimeter_worst e  area_worst possuem correlação acima de 0.9, então iremos remover os atributos perímetro e raio (escolha arbitrária)\n",
        "\n",
        "Portanto, nesse primeiro terceiro, os atributos que continuarão serão: area_worst, texture_worst, smoothness_worst, compactness_worst, concavity_worst, concave points_worst, symmetry_worst e fractal_dimension_worst"
      ]
    },
    {
      "cell_type": "markdown",
      "metadata": {
        "id": "gSnmUyp2VBIL"
      },
      "source": [
        "## **Plotagem de Violino**"
      ]
    },
    {
      "cell_type": "markdown",
      "metadata": {
        "id": "6k_jiy7UPeD7"
      },
      "source": [
        "A plotagem de violino nos mostra a distribuição dos dados de acordo com cada classe e cada atributo. Para cada atributo à esquerda do eixo é apresentada a distribuição dos dados para a classe Maligno,  e à direita a distribuição para a classe Benigno.\n",
        "\n",
        "Através da observação da plotagem de violino podemos inferir que os atributos area_mean , concave points_mean, area_se, area_worst, concavity_worst e concave points_worst são bons atributos para a separação das classes, visto que a distribuição dos dados das classes é bem distinto. "
      ]
    },
    {
      "cell_type": "code",
      "execution_count": null,
      "metadata": {
        "execution": {
          "iopub.execute_input": "2022-08-30T19:25:59.621396Z",
          "iopub.status.busy": "2022-08-30T19:25:59.620915Z",
          "iopub.status.idle": "2022-08-30T19:26:00.975330Z",
          "shell.execute_reply": "2022-08-30T19:26:00.974909Z",
          "shell.execute_reply.started": "2022-08-30T19:25:59.621364Z"
        },
        "id": "EevQph-G7NZy"
      },
      "outputs": [],
      "source": [
        "droplist_final = ['radius_mean', \t'perimeter_mean',\t'concavity_mean',\t'radius_se', \t'perimeter_se',\t'radius_worst',\t'perimeter_worst']\n",
        "\n",
        "\n",
        "data_dia = Y\n",
        "data = X.drop(droplist_final, axis = 1)                     #retirada de atributos \n",
        "data_n_2 = (data - data.mean()) / (data.std())              # normalização\n",
        "data = pd.concat([Y,data_n_2],axis=1)\n",
        "data = pd.melt(data,id_vars=\"diagnosis\",\n",
        "                    var_name=\"Atributos\",\n",
        "                    value_name='Valores')\n",
        "plt.figure(figsize=(15,15))\n",
        "sns.violinplot(x=\"Atributos\", y=\"Valores\", hue=\"diagnosis\", data=data,split=True, inner=\"quart\")\n",
        "plt.xticks(rotation=90)"
      ]
    },
    {
      "cell_type": "markdown",
      "metadata": {
        "id": "RYK3Lrv-VU_z"
      },
      "source": [
        "## **Gráfico de pares de atributos**"
      ]
    },
    {
      "cell_type": "markdown",
      "metadata": {
        "id": "49slMbPq7NZ3"
      },
      "source": [
        "Os gráficos abaixo mostram as correlações entre os atributos (*mean, se* e *worst*) e as classes. \n",
        "\n",
        "Observando os gráficos da diagonal principal (histogramas referente à distribuição dos dados de acordo com o atributo em si) podemos inferir que os atributos area_mean ,  concave points_mean , area_se , concave points_worst e area_worst são bons atributos para a separação das classes, visto que a distribuição dos dados das classes é bem distinto.\n"
      ]
    },
    {
      "cell_type": "code",
      "execution_count": null,
      "metadata": {
        "execution": {
          "iopub.execute_input": "2022-08-30T19:26:05.997111Z",
          "iopub.status.busy": "2022-08-30T19:26:05.996855Z",
          "iopub.status.idle": "2022-08-30T19:26:15.545074Z",
          "shell.execute_reply": "2022-08-30T19:26:15.543950Z",
          "shell.execute_reply.started": "2022-08-30T19:26:05.997062Z"
        },
        "id": "XMslgFT0Rfj2"
      },
      "outputs": [],
      "source": [
        "# Mostrar correlação entre classes e atributos 'mean'\n",
        "sns.pairplot(dados, kind=\"scatter\", diag_kind=\"hist\", hue=\"diagnosis\" ,  markers=[\"o\", \"D\"], vars=[\"area_mean\", \"texture_mean\", \"smoothness_mean\", \"compactness_mean\", \"concave points_mean\", \"symmetry_mean\", \"fractal_dimension_mean\"] ) \n",
        "plt.show()"
      ]
    },
    {
      "cell_type": "code",
      "execution_count": null,
      "metadata": {
        "execution": {
          "iopub.execute_input": "2022-08-30T19:26:28.548123Z",
          "iopub.status.busy": "2022-08-30T19:26:28.547847Z",
          "iopub.status.idle": "2022-08-30T19:26:40.610544Z",
          "shell.execute_reply": "2022-08-30T19:26:40.609618Z",
          "shell.execute_reply.started": "2022-08-30T19:26:28.548084Z"
        },
        "id": "k9d0HlZpSP9_"
      },
      "outputs": [],
      "source": [
        "# Mostrar correlação entre classes e atributos 'se'\n",
        "sns.pairplot(dados, kind=\"scatter\", diag_kind=\"hist\", hue=\"diagnosis\" ,  markers=[\"o\", \"D\"], vars=[\"area_se\", \"texture_se\", \"smoothness_se\", \"compactness_se\", \"concavity_se\", \"concave points_se\", \"symmetry_se\", \"fractal_dimension_se\"] ) \n",
        "plt.show()\n"
      ]
    },
    {
      "cell_type": "code",
      "execution_count": null,
      "metadata": {
        "execution": {
          "iopub.execute_input": "2022-08-30T19:26:44.598978Z",
          "iopub.status.busy": "2022-08-30T19:26:44.598569Z",
          "iopub.status.idle": "2022-08-30T19:26:56.884102Z",
          "shell.execute_reply": "2022-08-30T19:26:56.882932Z",
          "shell.execute_reply.started": "2022-08-30T19:26:44.598939Z"
        },
        "id": "L1eP86p4SYoN"
      },
      "outputs": [],
      "source": [
        "# Mostrar correlação entre classes e atributos 'worst'\n",
        "sns.pairplot(dados, kind=\"scatter\", diag_kind=\"hist\", hue=\"diagnosis\" ,  markers=[\"o\", \"D\"], vars=[\"area_worst\", \"texture_worst\", \"smoothness_worst\", \"compactness_worst\", \"concavity_worst\", \"concave points_worst\", \"symmetry_worst\" , \"fractal_dimension_worst\"] ) \n",
        "plt.show()\n"
      ]
    },
    {
      "cell_type": "markdown",
      "metadata": {
        "id": "30exUteh7NZ8"
      },
      "source": [
        "# Transformação"
      ]
    },
    {
      "cell_type": "markdown",
      "metadata": {
        "id": "BBIB7xzQ7NZ9"
      },
      "source": [
        "Transformação é a etapa de armazenamento dos dados de forma a facilitar o uso das técnicas de Data Mining. \n",
        "\n",
        "Nessa etapa nos separamos a base de dados em duas partes: \n",
        "- Treino : dados que serão usados para treinar o modelo.\n",
        "- Teste : dados que serão usados para calcular a qualidade do modelo gerado."
      ]
    },
    {
      "cell_type": "code",
      "execution_count": null,
      "metadata": {
        "execution": {
          "iopub.execute_input": "2022-08-30T19:27:07.490670Z",
          "iopub.status.busy": "2022-08-30T19:27:07.490242Z",
          "iopub.status.idle": "2022-08-30T19:27:07.499729Z",
          "shell.execute_reply": "2022-08-30T19:27:07.498928Z",
          "shell.execute_reply.started": "2022-08-30T19:27:07.490628Z"
        },
        "id": "RJkyCZSi7NZ-"
      },
      "outputs": [],
      "source": [
        "# Remoção dos atributos que tinham alta correlação\n",
        "\n",
        "droplist_final = ['radius_mean', \t'perimeter_mean',\t'concavity_mean',\t'radius_se', \t'perimeter_se',\t'radius_worst',\t'perimeter_worst']\n",
        "\n",
        "data = X.drop(droplist_final, axis = 1)                     #retirada de atributos \n",
        "\n",
        "\n",
        "# Separar dados em Treino e Teste \n",
        "\n",
        "x_train, x_test, y_train, y_test = train_test_split(X, Y, test_size=0.25, random_state=10) # random_state=10 foi mantido para questão de REPRODUCIBILIDADE. (Separar os dados da mesma forma independente da execução). \n",
        "\n",
        "print('Quantidade de registros para treino: ', x_train.shape[0]) \n",
        "print('Quantidade de registros para teste: ',x_test.shape[0]) #qtd de registros para teste\n"
      ]
    },
    {
      "cell_type": "markdown",
      "metadata": {
        "id": "gDM_vs7s7NaB"
      },
      "source": [
        "# Mineração de Dados"
      ]
    },
    {
      "cell_type": "markdown",
      "metadata": {
        "id": "4K9xaXpH7NaC"
      },
      "source": [
        "*Data mining* é a principal atividade do conhecimento, aplicando, para este fim, algoritmos de descoberta de padrões.\n",
        "Iremos fazer uso do algoritmo KNN (do inglês,  *K-nearest neighbor*),  que determina a classe(o rótulo de classificação)  de uma amostra baseado nas k amostras vizinhas mais próximas advindas de um conjunto de treinamento."
      ]
    },
    {
      "cell_type": "markdown",
      "metadata": {
        "id": "f1GaYXyn7NaY"
      },
      "source": [
        "Para fazer a escolha do K ideal calculamos a acurácia para k de 1 até 15 com *cross validation*.\n",
        "> ***Cross Validation*** (validação cruzada) é o particionamento do conjunto de dados em subconjuntos mutualmente exclusivos, e posteriormente, utiliza-se alguns destes subconjuntos para a estimação dos parâmetros do modelo (dados de treinamento) e o restante dos subconjuntos (dados de validação ou de teste) são empregados na validação do modelo."
      ]
    },
    {
      "cell_type": "code",
      "execution_count": null,
      "metadata": {
        "execution": {
          "iopub.execute_input": "2022-08-30T19:27:15.401785Z",
          "iopub.status.busy": "2022-08-30T19:27:15.401487Z",
          "iopub.status.idle": "2022-08-30T19:27:15.920375Z",
          "shell.execute_reply": "2022-08-30T19:27:15.919569Z",
          "shell.execute_reply.started": "2022-08-30T19:27:15.401739Z"
        },
        "id": "kT9KXi6H7Naa"
      },
      "outputs": [],
      "source": [
        "# Calcular a acurácia para K de 1 a 15 utilizando Cross Validation\n",
        "tr_acc = []\n",
        "k_set = range(1,15)\n",
        "\n",
        "for n_neighbors in k_set:\n",
        "  knn = KNeighborsClassifier(n_neighbors=n_neighbors)\n",
        "  scores = cross_val_score(knn, x_train, y_train, cv=10) #testa eficacia com cross validation na base de treinamento\n",
        "  tr_acc.append(scores.mean())\n",
        "  \n",
        "best_k = np.argmax(tr_acc) #retorna o indice do maior\n",
        "print('Melhor k no treinamento com Cross Validation: ', k_set[best_k]) #mostra melhor k do treinamento com cross validation"
      ]
    },
    {
      "cell_type": "markdown",
      "metadata": {
        "id": "FLvjThVD7Nae"
      },
      "source": [
        " Depois calculamos a acurácia para  cada k de 1 até 15 aplicando o modelo nos dados de treinamento e fazendo o teste com os dados de teste. \n"
      ]
    },
    {
      "cell_type": "code",
      "execution_count": null,
      "metadata": {
        "execution": {
          "iopub.execute_input": "2022-08-30T19:27:19.718364Z",
          "iopub.status.busy": "2022-08-30T19:27:19.717837Z",
          "iopub.status.idle": "2022-08-30T19:27:19.773227Z",
          "shell.execute_reply": "2022-08-30T19:27:19.772622Z",
          "shell.execute_reply.started": "2022-08-30T19:27:19.718316Z"
        },
        "id": "6s_9LxWs7Naf"
      },
      "outputs": [],
      "source": [
        "te_acc = []\n",
        "k_set = range(1,15)\n",
        "\n",
        "for n_neighbors in k_set:\n",
        "  knn = KNeighborsClassifier(n_neighbors=n_neighbors)\n",
        "  knn.fit(x_train, y_train)\n",
        "  y_pred = knn.predict(x_test) #aplica x_test no modelo\n",
        "  te_acc.append(sklearn.metrics.accuracy_score(y_test, y_pred)) #compara y_test com y_pred\n",
        "    \n",
        "melhor_k =np.argmax(te_acc)\n",
        "print('Melhor k nos testes: ', k_set[melhor_k]) #melhor k do treinamento normal + teste"
      ]
    },
    {
      "cell_type": "markdown",
      "metadata": {
        "id": "pR6qqfie7Nal"
      },
      "source": [
        "\n",
        "A seguir é mostrado um gráfico para comparar a acurácia de cada valor de K no treino e no teste."
      ]
    },
    {
      "cell_type": "code",
      "execution_count": null,
      "metadata": {
        "execution": {
          "iopub.execute_input": "2022-08-30T19:27:25.464104Z",
          "iopub.status.busy": "2022-08-30T19:27:25.463700Z",
          "iopub.status.idle": "2022-08-30T19:27:25.684862Z",
          "shell.execute_reply": "2022-08-30T19:27:25.684270Z",
          "shell.execute_reply.started": "2022-08-30T19:27:25.464054Z"
        },
        "id": "n8yP3ifC7Nam"
      },
      "outputs": [],
      "source": [
        "import matplotlib.pyplot as plt\n",
        "\n",
        "plt.plot(k_set,tr_acc, label='Treino')\n",
        "plt.plot(k_set,te_acc, label='Teste')\n",
        "plt.ylabel('Acurácia')\n",
        "plt.xlabel('k')\n",
        "plt.legend()\n",
        "\n",
        "plt.show()"
      ]
    },
    {
      "cell_type": "markdown",
      "metadata": {
        "id": "y2mmbmtb7Nao"
      },
      "source": [
        "Assim assumiremos que o melhor K para esse modelo é 7, pois o treino apresenta sua maior acurácia. "
      ]
    },
    {
      "cell_type": "markdown",
      "metadata": {
        "id": "P17n0aw27Nap"
      },
      "source": [
        "# Avaliação"
      ]
    },
    {
      "cell_type": "markdown",
      "metadata": {
        "id": "d2VVNVA17Naq"
      },
      "source": [
        "Como o próprio nome diz, esta fase consiste em interpretar os dados gerados e verificar se possuem alguma validade para o problema proposto.\n",
        "\n",
        "Iremos apresentar o Score , Acurácia e Tabela de Confusão  do modelo quando aplicado para K = 7. As observações que podemos tirar acerca desses cálculos é:\n",
        "\n",
        "- Score: podemos perceber que na maioria dos casos o algoritmo possui muita 'certeza' da classificação efetuada.\n",
        "- Acurácia: o modelo apresenta  cerca de 93% de acurácia.\n",
        "- Matriz de confusão: no teste do modelo existem 4  casos de falso positivo, ou seja, que foram preditos como benignos quando na verdade eram malignos. E 5 casos de falso positivo , ou seja, que foram preditos como benignos quando na verdade eram malignos. Além dos restantes 134 casos que foram corretamente preditos.\n"
      ]
    },
    {
      "cell_type": "markdown",
      "metadata": {
        "id": "SJeo-FJ_7Nas"
      },
      "source": [
        "## Cálculo de score"
      ]
    },
    {
      "cell_type": "code",
      "execution_count": null,
      "metadata": {
        "execution": {
          "iopub.execute_input": "2022-08-30T19:27:32.031110Z",
          "iopub.status.busy": "2022-08-30T19:27:32.030650Z",
          "iopub.status.idle": "2022-08-30T19:27:32.044720Z",
          "shell.execute_reply": "2022-08-30T19:27:32.043461Z",
          "shell.execute_reply.started": "2022-08-30T19:27:32.031067Z"
        },
        "id": "MzjU_xHk7Nat"
      },
      "outputs": [],
      "source": [
        "# Reaplicar o modelo com k=7 , que é o melhor k\n",
        "clf = KNeighborsClassifier(n_neighbors = 11)\n",
        "clf.fit(x_train, y_train)\n",
        "\n",
        "\n",
        "# Mostrar Score\n",
        "pred_scores = clf.predict_proba(x_test)\n",
        "print(pred_scores)"
      ]
    },
    {
      "cell_type": "markdown",
      "metadata": {
        "id": "JuRfwi-S7Naw"
      },
      "source": [
        "## Cálculo da acurácia"
      ]
    },
    {
      "cell_type": "code",
      "execution_count": null,
      "metadata": {
        "execution": {
          "iopub.execute_input": "2022-08-30T19:27:37.494111Z",
          "iopub.status.busy": "2022-08-30T19:27:37.493823Z",
          "iopub.status.idle": "2022-08-30T19:27:37.502863Z",
          "shell.execute_reply": "2022-08-30T19:27:37.501521Z",
          "shell.execute_reply.started": "2022-08-30T19:27:37.494069Z"
        },
        "id": "sRadbpBf7Naw"
      },
      "outputs": [],
      "source": [
        "# Calcular a acurácia do modelo aplicado nos dados de teste\n",
        "y_pred = clf.predict(x_test)\n",
        "te_acc= (sklearn.metrics.accuracy_score(y_test, y_pred)) \n",
        "print ('Acurácia obtida: ', te_acc)"
      ]
    },
    {
      "cell_type": "markdown",
      "metadata": {
        "id": "aexCFH0o7Naz"
      },
      "source": [
        "## Matriz de confusão \n"
      ]
    },
    {
      "cell_type": "code",
      "execution_count": null,
      "metadata": {
        "execution": {
          "iopub.execute_input": "2022-08-30T19:27:41.948948Z",
          "iopub.status.busy": "2022-08-30T19:27:41.948693Z",
          "iopub.status.idle": "2022-08-30T19:27:42.168456Z",
          "shell.execute_reply": "2022-08-30T19:27:42.167628Z",
          "shell.execute_reply.started": "2022-08-30T19:27:41.948905Z"
        },
        "id": "HGM7kuh07Na0"
      },
      "outputs": [],
      "source": [
        "conf_mat = sklearn.metrics.confusion_matrix(y_test, y_pred)\n",
        "\n",
        "df_cm = pd.DataFrame(conf_mat, index = [i for i in ['maligno', 'benigno']],\n",
        "                  columns = [i for i in ['maligno', 'benigno']])\n",
        "\n",
        "cmap = sns.light_palette(\"navy\", as_cmap=True)\n",
        "plt.figure()\n",
        "sns.heatmap(df_cm, annot=True, cmap=cmap)"
      ]
    },
    {
      "cell_type": "markdown",
      "metadata": {
        "id": "z2bL0_nD7Na3"
      },
      "source": [
        "# Conclusão"
      ]
    },
    {
      "cell_type": "markdown",
      "metadata": {
        "id": "q8IaaI817Na4"
      },
      "source": [
        "Realizamos todas as etapas do KDD  (Seleção dos dados, Pré-processamento, Transformação, Mineração de Dados, Avaliação) na abordagem do algoritmo de aprendizado de máquina KNN aplicado na base de dados referente ao diagnóstico de câncer de mama. \n",
        "\n",
        "É possível concluir que a acurácia de 93% obtida pelo modelo  é satisfatória. \n",
        "\n",
        "Numa próxima abordagem poderiam ser definidos quais são os atributos mais relevantes para a separação das classes a fim de atribuir um peso maior a esses atributos no momento da classificação de um novo dado. Atributos que seriam candidatos a um peso maior são os que foram comentados na seção da Plotagem de violino (area_mean ,  concave points_mean , area_se , concave points_worst e area_worst )  e na seção de Gráfico de pares de atributos (area_mean ,  concave points_mean , area_se , concave points_worst e area_worst ).\n"
      ]
    }
  ],
  "metadata": {
    "colab": {
      "provenance": [],
      "include_colab_link": true
    },
    "kernelspec": {
      "display_name": "Python 3",
      "language": "python",
      "name": "python3"
    },
    "language_info": {
      "codemirror_mode": {
        "name": "ipython",
        "version": 3
      },
      "file_extension": ".py",
      "mimetype": "text/x-python",
      "name": "python",
      "nbconvert_exporter": "python",
      "pygments_lexer": "ipython3",
      "version": "3.8.5"
    }
  },
  "nbformat": 4,
  "nbformat_minor": 0
}