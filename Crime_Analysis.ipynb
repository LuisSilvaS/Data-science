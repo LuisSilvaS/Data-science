{
  "nbformat": 4,
  "nbformat_minor": 0,
  "metadata": {
    "colab": {
      "provenance": [],
      "authorship_tag": "ABX9TyOUlB3pgCBiWQnQklytop0V",
      "include_colab_link": true
    },
    "kernelspec": {
      "name": "python3",
      "display_name": "Python 3"
    },
    "language_info": {
      "name": "python"
    }
  },
  "cells": [
    {
      "cell_type": "markdown",
      "metadata": {
        "id": "view-in-github",
        "colab_type": "text"
      },
      "source": [
        "<a href=\"https://colab.research.google.com/github/LuisSilvaS/Data-science/blob/main/Crime_Analysis.ipynb\" target=\"_parent\"><img src=\"https://colab.research.google.com/assets/colab-badge.svg\" alt=\"Open In Colab\"/></a>"
      ]
    },
    {
      "cell_type": "code",
      "execution_count": 1,
      "metadata": {
        "id": "Gm6WJFO4lAn9"
      },
      "outputs": [],
      "source": [
        "import pandas as pd\n",
        "import numpy as np\n",
        "import matplotlib.pyplot as plt\n",
        "import seaborn as sns\n",
        "from mpl_toolkits.mplot3d import Axes3D"
      ]
    },
    {
      "cell_type": "code",
      "source": [
        "import os"
      ],
      "metadata": {
        "id": "Xtdlt2EclyEO"
      },
      "execution_count": 3,
      "outputs": []
    },
    {
      "cell_type": "code",
      "source": [
        "df = pd.read_csv('/content/rec-crime-pfa.csv' )"
      ],
      "metadata": {
        "id": "yLY1PXCwmNLl"
      },
      "execution_count": 4,
      "outputs": []
    },
    {
      "cell_type": "code",
      "source": [
        "df.sample(10)"
      ],
      "metadata": {
        "id": "EGD2RK5Fmw7c",
        "outputId": "95f3ea76-c653-4bd4-a6e8-31b4f02e76ff",
        "colab": {
          "base_uri": "https://localhost:8080/",
          "height": 363
        }
      },
      "execution_count": 5,
      "outputs": [
        {
          "output_type": "execute_result",
          "data": {
            "text/plain": [
              "      12 months ending                       PFA                    Region  \\\n",
              "14461       31/03/2010                Humberside  Yorkshire and The Humber   \n",
              "18754       30/06/2011                     Essex                      East   \n",
              "9802        31/12/2008                 Cleveland                North East   \n",
              "44858       30/09/2018               Dyfed-Powys                     Wales   \n",
              "12713       30/09/2009                Humberside  Yorkshire and The Humber   \n",
              "6204        31/12/2007  British Transport Police  British Transport Police   \n",
              "11953       30/06/2009       Metropolitan Police                    London   \n",
              "36366       30/06/2016                  Cheshire                North West   \n",
              "27155       30/09/2013                    Surrey                South East   \n",
              "22480       30/06/2012              Lincolnshire             East Midlands   \n",
              "\n",
              "                                    Offence  \\\n",
              "14461                         Bicycle theft   \n",
              "18754                           Shoplifting   \n",
              "9802              Criminal damage and arson   \n",
              "44858        Possession of weapons offences   \n",
              "12713                       Sexual offences   \n",
              "6204                      Domestic burglary   \n",
              "11953                       Sexual offences   \n",
              "36366              Non-residential burglary   \n",
              "27155  Miscellaneous crimes against society   \n",
              "22480  Miscellaneous crimes against society   \n",
              "\n",
              "       Rolling year total number of offences  \n",
              "14461                                   2573  \n",
              "18754                                   9396  \n",
              "9802                                   14463  \n",
              "44858                                    153  \n",
              "12713                                   1004  \n",
              "6204                                       4  \n",
              "11953                                   8575  \n",
              "36366                                      0  \n",
              "27155                                    955  \n",
              "22480                                    621  "
            ],
            "text/html": [
              "\n",
              "  <div id=\"df-8f47aa26-1524-45bc-88f9-461f6bc0f8e0\">\n",
              "    <div class=\"colab-df-container\">\n",
              "      <div>\n",
              "<style scoped>\n",
              "    .dataframe tbody tr th:only-of-type {\n",
              "        vertical-align: middle;\n",
              "    }\n",
              "\n",
              "    .dataframe tbody tr th {\n",
              "        vertical-align: top;\n",
              "    }\n",
              "\n",
              "    .dataframe thead th {\n",
              "        text-align: right;\n",
              "    }\n",
              "</style>\n",
              "<table border=\"1\" class=\"dataframe\">\n",
              "  <thead>\n",
              "    <tr style=\"text-align: right;\">\n",
              "      <th></th>\n",
              "      <th>12 months ending</th>\n",
              "      <th>PFA</th>\n",
              "      <th>Region</th>\n",
              "      <th>Offence</th>\n",
              "      <th>Rolling year total number of offences</th>\n",
              "    </tr>\n",
              "  </thead>\n",
              "  <tbody>\n",
              "    <tr>\n",
              "      <th>14461</th>\n",
              "      <td>31/03/2010</td>\n",
              "      <td>Humberside</td>\n",
              "      <td>Yorkshire and The Humber</td>\n",
              "      <td>Bicycle theft</td>\n",
              "      <td>2573</td>\n",
              "    </tr>\n",
              "    <tr>\n",
              "      <th>18754</th>\n",
              "      <td>30/06/2011</td>\n",
              "      <td>Essex</td>\n",
              "      <td>East</td>\n",
              "      <td>Shoplifting</td>\n",
              "      <td>9396</td>\n",
              "    </tr>\n",
              "    <tr>\n",
              "      <th>9802</th>\n",
              "      <td>31/12/2008</td>\n",
              "      <td>Cleveland</td>\n",
              "      <td>North East</td>\n",
              "      <td>Criminal damage and arson</td>\n",
              "      <td>14463</td>\n",
              "    </tr>\n",
              "    <tr>\n",
              "      <th>44858</th>\n",
              "      <td>30/09/2018</td>\n",
              "      <td>Dyfed-Powys</td>\n",
              "      <td>Wales</td>\n",
              "      <td>Possession of weapons offences</td>\n",
              "      <td>153</td>\n",
              "    </tr>\n",
              "    <tr>\n",
              "      <th>12713</th>\n",
              "      <td>30/09/2009</td>\n",
              "      <td>Humberside</td>\n",
              "      <td>Yorkshire and The Humber</td>\n",
              "      <td>Sexual offences</td>\n",
              "      <td>1004</td>\n",
              "    </tr>\n",
              "    <tr>\n",
              "      <th>6204</th>\n",
              "      <td>31/12/2007</td>\n",
              "      <td>British Transport Police</td>\n",
              "      <td>British Transport Police</td>\n",
              "      <td>Domestic burglary</td>\n",
              "      <td>4</td>\n",
              "    </tr>\n",
              "    <tr>\n",
              "      <th>11953</th>\n",
              "      <td>30/06/2009</td>\n",
              "      <td>Metropolitan Police</td>\n",
              "      <td>London</td>\n",
              "      <td>Sexual offences</td>\n",
              "      <td>8575</td>\n",
              "    </tr>\n",
              "    <tr>\n",
              "      <th>36366</th>\n",
              "      <td>30/06/2016</td>\n",
              "      <td>Cheshire</td>\n",
              "      <td>North West</td>\n",
              "      <td>Non-residential burglary</td>\n",
              "      <td>0</td>\n",
              "    </tr>\n",
              "    <tr>\n",
              "      <th>27155</th>\n",
              "      <td>30/09/2013</td>\n",
              "      <td>Surrey</td>\n",
              "      <td>South East</td>\n",
              "      <td>Miscellaneous crimes against society</td>\n",
              "      <td>955</td>\n",
              "    </tr>\n",
              "    <tr>\n",
              "      <th>22480</th>\n",
              "      <td>30/06/2012</td>\n",
              "      <td>Lincolnshire</td>\n",
              "      <td>East Midlands</td>\n",
              "      <td>Miscellaneous crimes against society</td>\n",
              "      <td>621</td>\n",
              "    </tr>\n",
              "  </tbody>\n",
              "</table>\n",
              "</div>\n",
              "      <button class=\"colab-df-convert\" onclick=\"convertToInteractive('df-8f47aa26-1524-45bc-88f9-461f6bc0f8e0')\"\n",
              "              title=\"Convert this dataframe to an interactive table.\"\n",
              "              style=\"display:none;\">\n",
              "        \n",
              "  <svg xmlns=\"http://www.w3.org/2000/svg\" height=\"24px\"viewBox=\"0 0 24 24\"\n",
              "       width=\"24px\">\n",
              "    <path d=\"M0 0h24v24H0V0z\" fill=\"none\"/>\n",
              "    <path d=\"M18.56 5.44l.94 2.06.94-2.06 2.06-.94-2.06-.94-.94-2.06-.94 2.06-2.06.94zm-11 1L8.5 8.5l.94-2.06 2.06-.94-2.06-.94L8.5 2.5l-.94 2.06-2.06.94zm10 10l.94 2.06.94-2.06 2.06-.94-2.06-.94-.94-2.06-.94 2.06-2.06.94z\"/><path d=\"M17.41 7.96l-1.37-1.37c-.4-.4-.92-.59-1.43-.59-.52 0-1.04.2-1.43.59L10.3 9.45l-7.72 7.72c-.78.78-.78 2.05 0 2.83L4 21.41c.39.39.9.59 1.41.59.51 0 1.02-.2 1.41-.59l7.78-7.78 2.81-2.81c.8-.78.8-2.07 0-2.86zM5.41 20L4 18.59l7.72-7.72 1.47 1.35L5.41 20z\"/>\n",
              "  </svg>\n",
              "      </button>\n",
              "      \n",
              "  <style>\n",
              "    .colab-df-container {\n",
              "      display:flex;\n",
              "      flex-wrap:wrap;\n",
              "      gap: 12px;\n",
              "    }\n",
              "\n",
              "    .colab-df-convert {\n",
              "      background-color: #E8F0FE;\n",
              "      border: none;\n",
              "      border-radius: 50%;\n",
              "      cursor: pointer;\n",
              "      display: none;\n",
              "      fill: #1967D2;\n",
              "      height: 32px;\n",
              "      padding: 0 0 0 0;\n",
              "      width: 32px;\n",
              "    }\n",
              "\n",
              "    .colab-df-convert:hover {\n",
              "      background-color: #E2EBFA;\n",
              "      box-shadow: 0px 1px 2px rgba(60, 64, 67, 0.3), 0px 1px 3px 1px rgba(60, 64, 67, 0.15);\n",
              "      fill: #174EA6;\n",
              "    }\n",
              "\n",
              "    [theme=dark] .colab-df-convert {\n",
              "      background-color: #3B4455;\n",
              "      fill: #D2E3FC;\n",
              "    }\n",
              "\n",
              "    [theme=dark] .colab-df-convert:hover {\n",
              "      background-color: #434B5C;\n",
              "      box-shadow: 0px 1px 3px 1px rgba(0, 0, 0, 0.15);\n",
              "      filter: drop-shadow(0px 1px 2px rgba(0, 0, 0, 0.3));\n",
              "      fill: #FFFFFF;\n",
              "    }\n",
              "  </style>\n",
              "\n",
              "      <script>\n",
              "        const buttonEl =\n",
              "          document.querySelector('#df-8f47aa26-1524-45bc-88f9-461f6bc0f8e0 button.colab-df-convert');\n",
              "        buttonEl.style.display =\n",
              "          google.colab.kernel.accessAllowed ? 'block' : 'none';\n",
              "\n",
              "        async function convertToInteractive(key) {\n",
              "          const element = document.querySelector('#df-8f47aa26-1524-45bc-88f9-461f6bc0f8e0');\n",
              "          const dataTable =\n",
              "            await google.colab.kernel.invokeFunction('convertToInteractive',\n",
              "                                                     [key], {});\n",
              "          if (!dataTable) return;\n",
              "\n",
              "          const docLinkHtml = 'Like what you see? Visit the ' +\n",
              "            '<a target=\"_blank\" href=https://colab.research.google.com/notebooks/data_table.ipynb>data table notebook</a>'\n",
              "            + ' to learn more about interactive tables.';\n",
              "          element.innerHTML = '';\n",
              "          dataTable['output_type'] = 'display_data';\n",
              "          await google.colab.output.renderOutput(dataTable, element);\n",
              "          const docLink = document.createElement('div');\n",
              "          docLink.innerHTML = docLinkHtml;\n",
              "          element.appendChild(docLink);\n",
              "        }\n",
              "      </script>\n",
              "    </div>\n",
              "  </div>\n",
              "  "
            ]
          },
          "metadata": {},
          "execution_count": 5
        }
      ]
    },
    {
      "cell_type": "code",
      "source": [
        "df.tail(5)"
      ],
      "metadata": {
        "id": "8OaQwL2ImxjD",
        "outputId": "e5329589-5e44-461e-d1da-492560eaa92a",
        "colab": {
          "base_uri": "https://localhost:8080/",
          "height": 206
        }
      },
      "execution_count": 6,
      "outputs": [
        {
          "output_type": "execute_result",
          "data": {
            "text/plain": [
              "      12 months ending        PFA      Region                  Offence  \\\n",
              "46464       31/12/2018  Wiltshire  South West  Stalking and harassment   \n",
              "46465       31/12/2018  Wiltshire  South West    Theft from the person   \n",
              "46466       31/12/2018  Wiltshire  South West         Vehicle offences   \n",
              "46467       31/12/2018  Wiltshire  South West     Violence with injury   \n",
              "46468       31/12/2018  Wiltshire  South West  Violence without injury   \n",
              "\n",
              "       Rolling year total number of offences  \n",
              "46464                                   2380  \n",
              "46465                                    347  \n",
              "46466                                   2895  \n",
              "46467                                   5701  \n",
              "46468                                   5840  "
            ],
            "text/html": [
              "\n",
              "  <div id=\"df-77f396f9-48f3-47d1-a422-e15e3cebe6e2\">\n",
              "    <div class=\"colab-df-container\">\n",
              "      <div>\n",
              "<style scoped>\n",
              "    .dataframe tbody tr th:only-of-type {\n",
              "        vertical-align: middle;\n",
              "    }\n",
              "\n",
              "    .dataframe tbody tr th {\n",
              "        vertical-align: top;\n",
              "    }\n",
              "\n",
              "    .dataframe thead th {\n",
              "        text-align: right;\n",
              "    }\n",
              "</style>\n",
              "<table border=\"1\" class=\"dataframe\">\n",
              "  <thead>\n",
              "    <tr style=\"text-align: right;\">\n",
              "      <th></th>\n",
              "      <th>12 months ending</th>\n",
              "      <th>PFA</th>\n",
              "      <th>Region</th>\n",
              "      <th>Offence</th>\n",
              "      <th>Rolling year total number of offences</th>\n",
              "    </tr>\n",
              "  </thead>\n",
              "  <tbody>\n",
              "    <tr>\n",
              "      <th>46464</th>\n",
              "      <td>31/12/2018</td>\n",
              "      <td>Wiltshire</td>\n",
              "      <td>South West</td>\n",
              "      <td>Stalking and harassment</td>\n",
              "      <td>2380</td>\n",
              "    </tr>\n",
              "    <tr>\n",
              "      <th>46465</th>\n",
              "      <td>31/12/2018</td>\n",
              "      <td>Wiltshire</td>\n",
              "      <td>South West</td>\n",
              "      <td>Theft from the person</td>\n",
              "      <td>347</td>\n",
              "    </tr>\n",
              "    <tr>\n",
              "      <th>46466</th>\n",
              "      <td>31/12/2018</td>\n",
              "      <td>Wiltshire</td>\n",
              "      <td>South West</td>\n",
              "      <td>Vehicle offences</td>\n",
              "      <td>2895</td>\n",
              "    </tr>\n",
              "    <tr>\n",
              "      <th>46467</th>\n",
              "      <td>31/12/2018</td>\n",
              "      <td>Wiltshire</td>\n",
              "      <td>South West</td>\n",
              "      <td>Violence with injury</td>\n",
              "      <td>5701</td>\n",
              "    </tr>\n",
              "    <tr>\n",
              "      <th>46468</th>\n",
              "      <td>31/12/2018</td>\n",
              "      <td>Wiltshire</td>\n",
              "      <td>South West</td>\n",
              "      <td>Violence without injury</td>\n",
              "      <td>5840</td>\n",
              "    </tr>\n",
              "  </tbody>\n",
              "</table>\n",
              "</div>\n",
              "      <button class=\"colab-df-convert\" onclick=\"convertToInteractive('df-77f396f9-48f3-47d1-a422-e15e3cebe6e2')\"\n",
              "              title=\"Convert this dataframe to an interactive table.\"\n",
              "              style=\"display:none;\">\n",
              "        \n",
              "  <svg xmlns=\"http://www.w3.org/2000/svg\" height=\"24px\"viewBox=\"0 0 24 24\"\n",
              "       width=\"24px\">\n",
              "    <path d=\"M0 0h24v24H0V0z\" fill=\"none\"/>\n",
              "    <path d=\"M18.56 5.44l.94 2.06.94-2.06 2.06-.94-2.06-.94-.94-2.06-.94 2.06-2.06.94zm-11 1L8.5 8.5l.94-2.06 2.06-.94-2.06-.94L8.5 2.5l-.94 2.06-2.06.94zm10 10l.94 2.06.94-2.06 2.06-.94-2.06-.94-.94-2.06-.94 2.06-2.06.94z\"/><path d=\"M17.41 7.96l-1.37-1.37c-.4-.4-.92-.59-1.43-.59-.52 0-1.04.2-1.43.59L10.3 9.45l-7.72 7.72c-.78.78-.78 2.05 0 2.83L4 21.41c.39.39.9.59 1.41.59.51 0 1.02-.2 1.41-.59l7.78-7.78 2.81-2.81c.8-.78.8-2.07 0-2.86zM5.41 20L4 18.59l7.72-7.72 1.47 1.35L5.41 20z\"/>\n",
              "  </svg>\n",
              "      </button>\n",
              "      \n",
              "  <style>\n",
              "    .colab-df-container {\n",
              "      display:flex;\n",
              "      flex-wrap:wrap;\n",
              "      gap: 12px;\n",
              "    }\n",
              "\n",
              "    .colab-df-convert {\n",
              "      background-color: #E8F0FE;\n",
              "      border: none;\n",
              "      border-radius: 50%;\n",
              "      cursor: pointer;\n",
              "      display: none;\n",
              "      fill: #1967D2;\n",
              "      height: 32px;\n",
              "      padding: 0 0 0 0;\n",
              "      width: 32px;\n",
              "    }\n",
              "\n",
              "    .colab-df-convert:hover {\n",
              "      background-color: #E2EBFA;\n",
              "      box-shadow: 0px 1px 2px rgba(60, 64, 67, 0.3), 0px 1px 3px 1px rgba(60, 64, 67, 0.15);\n",
              "      fill: #174EA6;\n",
              "    }\n",
              "\n",
              "    [theme=dark] .colab-df-convert {\n",
              "      background-color: #3B4455;\n",
              "      fill: #D2E3FC;\n",
              "    }\n",
              "\n",
              "    [theme=dark] .colab-df-convert:hover {\n",
              "      background-color: #434B5C;\n",
              "      box-shadow: 0px 1px 3px 1px rgba(0, 0, 0, 0.15);\n",
              "      filter: drop-shadow(0px 1px 2px rgba(0, 0, 0, 0.3));\n",
              "      fill: #FFFFFF;\n",
              "    }\n",
              "  </style>\n",
              "\n",
              "      <script>\n",
              "        const buttonEl =\n",
              "          document.querySelector('#df-77f396f9-48f3-47d1-a422-e15e3cebe6e2 button.colab-df-convert');\n",
              "        buttonEl.style.display =\n",
              "          google.colab.kernel.accessAllowed ? 'block' : 'none';\n",
              "\n",
              "        async function convertToInteractive(key) {\n",
              "          const element = document.querySelector('#df-77f396f9-48f3-47d1-a422-e15e3cebe6e2');\n",
              "          const dataTable =\n",
              "            await google.colab.kernel.invokeFunction('convertToInteractive',\n",
              "                                                     [key], {});\n",
              "          if (!dataTable) return;\n",
              "\n",
              "          const docLinkHtml = 'Like what you see? Visit the ' +\n",
              "            '<a target=\"_blank\" href=https://colab.research.google.com/notebooks/data_table.ipynb>data table notebook</a>'\n",
              "            + ' to learn more about interactive tables.';\n",
              "          element.innerHTML = '';\n",
              "          dataTable['output_type'] = 'display_data';\n",
              "          await google.colab.output.renderOutput(dataTable, element);\n",
              "          const docLink = document.createElement('div');\n",
              "          docLink.innerHTML = docLinkHtml;\n",
              "          element.appendChild(docLink);\n",
              "        }\n",
              "      </script>\n",
              "    </div>\n",
              "  </div>\n",
              "  "
            ]
          },
          "metadata": {},
          "execution_count": 6
        }
      ]
    },
    {
      "cell_type": "code",
      "source": [
        "df.info()"
      ],
      "metadata": {
        "id": "CFHCra7em06D",
        "outputId": "247b098e-da69-4fac-b697-d723a096dab9",
        "colab": {
          "base_uri": "https://localhost:8080/"
        }
      },
      "execution_count": 7,
      "outputs": [
        {
          "output_type": "stream",
          "name": "stdout",
          "text": [
            "<class 'pandas.core.frame.DataFrame'>\n",
            "RangeIndex: 46469 entries, 0 to 46468\n",
            "Data columns (total 5 columns):\n",
            " #   Column                                 Non-Null Count  Dtype \n",
            "---  ------                                 --------------  ----- \n",
            " 0   12 months ending                       46469 non-null  object\n",
            " 1   PFA                                    46469 non-null  object\n",
            " 2   Region                                 46469 non-null  object\n",
            " 3   Offence                                46469 non-null  object\n",
            " 4   Rolling year total number of offences  46469 non-null  int64 \n",
            "dtypes: int64(1), object(4)\n",
            "memory usage: 1.8+ MB\n"
          ]
        }
      ]
    },
    {
      "cell_type": "code",
      "source": [
        "df.isnull().any().any()"
      ],
      "metadata": {
        "id": "zp52ITLFm2gr",
        "outputId": "d2db933c-2a31-4d72-b59a-b73b19fdc573",
        "colab": {
          "base_uri": "https://localhost:8080/"
        }
      },
      "execution_count": 8,
      "outputs": [
        {
          "output_type": "execute_result",
          "data": {
            "text/plain": [
              "False"
            ]
          },
          "metadata": {},
          "execution_count": 8
        }
      ]
    },
    {
      "cell_type": "code",
      "source": [
        "df.nunique()"
      ],
      "metadata": {
        "id": "_KoO4PjFm5Ak",
        "outputId": "ccdc31ea-47d1-468c-8a24-4a7f01c5dccd",
        "colab": {
          "base_uri": "https://localhost:8080/"
        }
      },
      "execution_count": 9,
      "outputs": [
        {
          "output_type": "execute_result",
          "data": {
            "text/plain": [
              "12 months ending                            52\n",
              "PFA                                         47\n",
              "Region                                      14\n",
              "Offence                                     25\n",
              "Rolling year total number of offences    13638\n",
              "dtype: int64"
            ]
          },
          "metadata": {},
          "execution_count": 9
        }
      ]
    },
    {
      "cell_type": "code",
      "source": [
        "df['12 months ending'] = pd.to_datetime(df['12 months ending'])\n",
        "df['Year'] = df['12 months ending'].dt.year\n",
        "df['Month'] = df['12 months ending'].dt.month\n",
        "df['Day'] = df['12 months ending'].dt.year\n",
        "df['Day of week'] = df['12 months ending'].dt.dayofweek\n",
        "df['Week of year'] = df['12 months ending'].dt.weekofyear"
      ],
      "metadata": {
        "id": "oN6ehn5em7Q8",
        "outputId": "9f916005-0427-4034-ec15-3c04ef84ba66",
        "colab": {
          "base_uri": "https://localhost:8080/"
        }
      },
      "execution_count": 10,
      "outputs": [
        {
          "output_type": "stream",
          "name": "stderr",
          "text": [
            "/usr/local/lib/python3.7/dist-packages/ipykernel_launcher.py:6: FutureWarning: Series.dt.weekofyear and Series.dt.week have been deprecated.  Please use Series.dt.isocalendar().week instead.\n",
            "  \n"
          ]
        }
      ]
    },
    {
      "cell_type": "code",
      "source": [
        "df.sample(5)"
      ],
      "metadata": {
        "id": "owp_MzJ9m9We",
        "outputId": "db3508c5-0af6-48df-8b12-19620f96d62c",
        "colab": {
          "base_uri": "https://localhost:8080/",
          "height": 206
        }
      },
      "execution_count": 11,
      "outputs": [
        {
          "output_type": "execute_result",
          "data": {
            "text/plain": [
              "      12 months ending              PFA                    Region  \\\n",
              "37560       2016-09-30    Hertfordshire                      East   \n",
              "28775       2014-03-31      Northumbria                North East   \n",
              "21819       2012-03-31    Staffordshire             West Midlands   \n",
              "26217       2013-06-30  South Yorkshire  Yorkshire and The Humber   \n",
              "14995       2010-06-30     Bedfordshire                      East   \n",
              "\n",
              "                              Offence  Rolling year total number of offences  \\\n",
              "37560       Criminal damage and arson                                   9310   \n",
              "28775                 Sexual offences                                   1166   \n",
              "21819  Possession of weapons offences                                    329   \n",
              "26217                 Sexual offences                                    906   \n",
              "14995         Stalking and harassment                                    437   \n",
              "\n",
              "       Year  Month   Day  Day of week  Week of year  \n",
              "37560  2016      9  2016            4            39  \n",
              "28775  2014      3  2014            0            14  \n",
              "21819  2012      3  2012            5            13  \n",
              "26217  2013      6  2013            6            26  \n",
              "14995  2010      6  2010            2            26  "
            ],
            "text/html": [
              "\n",
              "  <div id=\"df-8bd76788-17de-493b-9892-94d6ec016d95\">\n",
              "    <div class=\"colab-df-container\">\n",
              "      <div>\n",
              "<style scoped>\n",
              "    .dataframe tbody tr th:only-of-type {\n",
              "        vertical-align: middle;\n",
              "    }\n",
              "\n",
              "    .dataframe tbody tr th {\n",
              "        vertical-align: top;\n",
              "    }\n",
              "\n",
              "    .dataframe thead th {\n",
              "        text-align: right;\n",
              "    }\n",
              "</style>\n",
              "<table border=\"1\" class=\"dataframe\">\n",
              "  <thead>\n",
              "    <tr style=\"text-align: right;\">\n",
              "      <th></th>\n",
              "      <th>12 months ending</th>\n",
              "      <th>PFA</th>\n",
              "      <th>Region</th>\n",
              "      <th>Offence</th>\n",
              "      <th>Rolling year total number of offences</th>\n",
              "      <th>Year</th>\n",
              "      <th>Month</th>\n",
              "      <th>Day</th>\n",
              "      <th>Day of week</th>\n",
              "      <th>Week of year</th>\n",
              "    </tr>\n",
              "  </thead>\n",
              "  <tbody>\n",
              "    <tr>\n",
              "      <th>37560</th>\n",
              "      <td>2016-09-30</td>\n",
              "      <td>Hertfordshire</td>\n",
              "      <td>East</td>\n",
              "      <td>Criminal damage and arson</td>\n",
              "      <td>9310</td>\n",
              "      <td>2016</td>\n",
              "      <td>9</td>\n",
              "      <td>2016</td>\n",
              "      <td>4</td>\n",
              "      <td>39</td>\n",
              "    </tr>\n",
              "    <tr>\n",
              "      <th>28775</th>\n",
              "      <td>2014-03-31</td>\n",
              "      <td>Northumbria</td>\n",
              "      <td>North East</td>\n",
              "      <td>Sexual offences</td>\n",
              "      <td>1166</td>\n",
              "      <td>2014</td>\n",
              "      <td>3</td>\n",
              "      <td>2014</td>\n",
              "      <td>0</td>\n",
              "      <td>14</td>\n",
              "    </tr>\n",
              "    <tr>\n",
              "      <th>21819</th>\n",
              "      <td>2012-03-31</td>\n",
              "      <td>Staffordshire</td>\n",
              "      <td>West Midlands</td>\n",
              "      <td>Possession of weapons offences</td>\n",
              "      <td>329</td>\n",
              "      <td>2012</td>\n",
              "      <td>3</td>\n",
              "      <td>2012</td>\n",
              "      <td>5</td>\n",
              "      <td>13</td>\n",
              "    </tr>\n",
              "    <tr>\n",
              "      <th>26217</th>\n",
              "      <td>2013-06-30</td>\n",
              "      <td>South Yorkshire</td>\n",
              "      <td>Yorkshire and The Humber</td>\n",
              "      <td>Sexual offences</td>\n",
              "      <td>906</td>\n",
              "      <td>2013</td>\n",
              "      <td>6</td>\n",
              "      <td>2013</td>\n",
              "      <td>6</td>\n",
              "      <td>26</td>\n",
              "    </tr>\n",
              "    <tr>\n",
              "      <th>14995</th>\n",
              "      <td>2010-06-30</td>\n",
              "      <td>Bedfordshire</td>\n",
              "      <td>East</td>\n",
              "      <td>Stalking and harassment</td>\n",
              "      <td>437</td>\n",
              "      <td>2010</td>\n",
              "      <td>6</td>\n",
              "      <td>2010</td>\n",
              "      <td>2</td>\n",
              "      <td>26</td>\n",
              "    </tr>\n",
              "  </tbody>\n",
              "</table>\n",
              "</div>\n",
              "      <button class=\"colab-df-convert\" onclick=\"convertToInteractive('df-8bd76788-17de-493b-9892-94d6ec016d95')\"\n",
              "              title=\"Convert this dataframe to an interactive table.\"\n",
              "              style=\"display:none;\">\n",
              "        \n",
              "  <svg xmlns=\"http://www.w3.org/2000/svg\" height=\"24px\"viewBox=\"0 0 24 24\"\n",
              "       width=\"24px\">\n",
              "    <path d=\"M0 0h24v24H0V0z\" fill=\"none\"/>\n",
              "    <path d=\"M18.56 5.44l.94 2.06.94-2.06 2.06-.94-2.06-.94-.94-2.06-.94 2.06-2.06.94zm-11 1L8.5 8.5l.94-2.06 2.06-.94-2.06-.94L8.5 2.5l-.94 2.06-2.06.94zm10 10l.94 2.06.94-2.06 2.06-.94-2.06-.94-.94-2.06-.94 2.06-2.06.94z\"/><path d=\"M17.41 7.96l-1.37-1.37c-.4-.4-.92-.59-1.43-.59-.52 0-1.04.2-1.43.59L10.3 9.45l-7.72 7.72c-.78.78-.78 2.05 0 2.83L4 21.41c.39.39.9.59 1.41.59.51 0 1.02-.2 1.41-.59l7.78-7.78 2.81-2.81c.8-.78.8-2.07 0-2.86zM5.41 20L4 18.59l7.72-7.72 1.47 1.35L5.41 20z\"/>\n",
              "  </svg>\n",
              "      </button>\n",
              "      \n",
              "  <style>\n",
              "    .colab-df-container {\n",
              "      display:flex;\n",
              "      flex-wrap:wrap;\n",
              "      gap: 12px;\n",
              "    }\n",
              "\n",
              "    .colab-df-convert {\n",
              "      background-color: #E8F0FE;\n",
              "      border: none;\n",
              "      border-radius: 50%;\n",
              "      cursor: pointer;\n",
              "      display: none;\n",
              "      fill: #1967D2;\n",
              "      height: 32px;\n",
              "      padding: 0 0 0 0;\n",
              "      width: 32px;\n",
              "    }\n",
              "\n",
              "    .colab-df-convert:hover {\n",
              "      background-color: #E2EBFA;\n",
              "      box-shadow: 0px 1px 2px rgba(60, 64, 67, 0.3), 0px 1px 3px 1px rgba(60, 64, 67, 0.15);\n",
              "      fill: #174EA6;\n",
              "    }\n",
              "\n",
              "    [theme=dark] .colab-df-convert {\n",
              "      background-color: #3B4455;\n",
              "      fill: #D2E3FC;\n",
              "    }\n",
              "\n",
              "    [theme=dark] .colab-df-convert:hover {\n",
              "      background-color: #434B5C;\n",
              "      box-shadow: 0px 1px 3px 1px rgba(0, 0, 0, 0.15);\n",
              "      filter: drop-shadow(0px 1px 2px rgba(0, 0, 0, 0.3));\n",
              "      fill: #FFFFFF;\n",
              "    }\n",
              "  </style>\n",
              "\n",
              "      <script>\n",
              "        const buttonEl =\n",
              "          document.querySelector('#df-8bd76788-17de-493b-9892-94d6ec016d95 button.colab-df-convert');\n",
              "        buttonEl.style.display =\n",
              "          google.colab.kernel.accessAllowed ? 'block' : 'none';\n",
              "\n",
              "        async function convertToInteractive(key) {\n",
              "          const element = document.querySelector('#df-8bd76788-17de-493b-9892-94d6ec016d95');\n",
              "          const dataTable =\n",
              "            await google.colab.kernel.invokeFunction('convertToInteractive',\n",
              "                                                     [key], {});\n",
              "          if (!dataTable) return;\n",
              "\n",
              "          const docLinkHtml = 'Like what you see? Visit the ' +\n",
              "            '<a target=\"_blank\" href=https://colab.research.google.com/notebooks/data_table.ipynb>data table notebook</a>'\n",
              "            + ' to learn more about interactive tables.';\n",
              "          element.innerHTML = '';\n",
              "          dataTable['output_type'] = 'display_data';\n",
              "          await google.colab.output.renderOutput(dataTable, element);\n",
              "          const docLink = document.createElement('div');\n",
              "          docLink.innerHTML = docLinkHtml;\n",
              "          element.appendChild(docLink);\n",
              "        }\n",
              "      </script>\n",
              "    </div>\n",
              "  </div>\n",
              "  "
            ]
          },
          "metadata": {},
          "execution_count": 11
        }
      ]
    },
    {
      "cell_type": "code",
      "source": [
        "df = df.rename(columns={'Rolling year total number of offences':'Total crimes'})"
      ],
      "metadata": {
        "id": "XfJseWfFm_mE"
      },
      "execution_count": 12,
      "outputs": []
    },
    {
      "cell_type": "code",
      "source": [
        "for col in ['PFA','Region','Offence']:\n",
        "    print('Unique values for {0}:'.format(col))\n",
        "    print(df[col].unique())\n",
        "    "
      ],
      "metadata": {
        "id": "cdO7XuYTnDcU",
        "outputId": "48c6d201-7eb7-4453-957b-904e9aac1aac",
        "colab": {
          "base_uri": "https://localhost:8080/"
        }
      },
      "execution_count": 13,
      "outputs": [
        {
          "output_type": "stream",
          "name": "stdout",
          "text": [
            "Unique values for PFA:\n",
            "['Avon and Somerset' 'Bedfordshire' 'British Transport Police'\n",
            " 'Cambridgeshire' 'Cheshire' 'City of London' 'Cleveland' 'Cumbria'\n",
            " 'Derbyshire' 'Devon and Cornwall' 'Dorset' 'Durham' 'Dyfed-Powys' 'Essex'\n",
            " 'Gloucestershire' 'Greater Manchester' 'Gwent' 'Hampshire'\n",
            " 'Hertfordshire' 'Humberside' 'Kent' 'Lancashire' 'Leicestershire'\n",
            " 'Lincolnshire' 'Merseyside' 'Metropolitan Police' 'Norfolk' 'North Wales'\n",
            " 'North Yorkshire' 'Northamptonshire' 'Northumbria' 'Nottinghamshire'\n",
            " 'South Wales' 'South Yorkshire' 'Staffordshire' 'Suffolk' 'Surrey'\n",
            " 'Sussex' 'Thames Valley' 'Warwickshire' 'West Mercia' 'West Midlands'\n",
            " 'West Yorkshire' 'Wiltshire' 'Action Fraud' 'CIFAS' 'UK Finance']\n",
            "Unique values for Region:\n",
            "['South West' 'East' 'British Transport Police' 'North West' 'London'\n",
            " 'North East' 'East Midlands' 'Wales' 'South East'\n",
            " 'Yorkshire and The Humber' 'West Midlands' 'Fraud: Action Fraud'\n",
            " 'Fraud: CIFAS' 'Fraud: UK Finance']\n",
            "Unique values for Offence:\n",
            "['All other theft offences' 'Bicycle theft' 'Criminal damage and arson'\n",
            " 'Death or serious injury caused by illegal driving' 'Domestic burglary'\n",
            " 'Drug offences' 'Fraud offences' 'Homicide'\n",
            " 'Miscellaneous crimes against society' 'Non-domestic burglary'\n",
            " 'Possession of weapons offences' 'Public order offences' 'Robbery'\n",
            " 'Sexual offences' 'Shoplifting' 'Stalking and harassment'\n",
            " 'Theft from the person' 'Vehicle offences' 'Violence with injury'\n",
            " 'Violence without injury' 'Action Fraud' 'CIFAS' 'UK Finance'\n",
            " 'Non-residential burglary' 'Residential burglary']\n"
          ]
        }
      ]
    },
    {
      "cell_type": "code",
      "source": [
        "for elem in df['Offence'].unique():\n",
        "    print(elem)"
      ],
      "metadata": {
        "id": "Hi8DIuWhnFiE",
        "outputId": "87429ea8-7cfd-4564-9915-4276e21c1367",
        "colab": {
          "base_uri": "https://localhost:8080/"
        }
      },
      "execution_count": 14,
      "outputs": [
        {
          "output_type": "stream",
          "name": "stdout",
          "text": [
            "All other theft offences\n",
            "Bicycle theft\n",
            "Criminal damage and arson\n",
            "Death or serious injury caused by illegal driving\n",
            "Domestic burglary\n",
            "Drug offences\n",
            "Fraud offences\n",
            "Homicide\n",
            "Miscellaneous crimes against society\n",
            "Non-domestic burglary\n",
            "Possession of weapons offences\n",
            "Public order offences\n",
            "Robbery\n",
            "Sexual offences\n",
            "Shoplifting\n",
            "Stalking and harassment\n",
            "Theft from the person\n",
            "Vehicle offences\n",
            "Violence with injury\n",
            "Violence without injury\n",
            "Action Fraud\n",
            "CIFAS\n",
            "UK Finance\n",
            "Non-residential burglary\n",
            "Residential burglary\n"
          ]
        }
      ]
    },
    {
      "cell_type": "code",
      "source": [
        "df.loc[df['Offence'].isin(['Domestic burglary','Non-residential burglary','Residential burglary','Non-domestic burglary']), 'Offence'] = 'Burglary'\n",
        "df.loc[df['Offence'].isin(['All other theft offences','Bicycle theft','Shoplifting','Theft from the person']), 'Offence'] = 'Thieviery'\n",
        "df.loc[df['Offence'].isin(['Violence with injury','Violence without injury']), 'Offence'] = 'Violence'"
      ],
      "metadata": {
        "id": "-pyAym_8nH1U"
      },
      "execution_count": 15,
      "outputs": []
    },
    {
      "cell_type": "code",
      "source": [
        "del df['12 months ending']"
      ],
      "metadata": {
        "id": "ZOQ_GM1NnKNk"
      },
      "execution_count": 16,
      "outputs": []
    },
    {
      "cell_type": "code",
      "source": [
        "plt.figure(figsize=(15,6))\n",
        "ax = sns.barplot(x='Year', y='Total crimes', data=df)\n",
        "plt.xticks(rotation=45,fontsize=10)\n",
        "plt.show()"
      ],
      "metadata": {
        "id": "YlRUoRTenMM8",
        "outputId": "42304481-2b0b-4ff5-ecb8-800f56d67b3e",
        "colab": {
          "base_uri": "https://localhost:8080/",
          "height": 403
        }
      },
      "execution_count": 17,
      "outputs": [
        {
          "output_type": "display_data",
          "data": {
            "text/plain": [
              "<Figure size 1080x432 with 1 Axes>"
            ],
            "image/png": "[encoded data removed]"
          },
          "metadata": {
            "needs_background": "light"
          }
        }
      ]
    },
    {
      "cell_type": "code",
      "source": [
        "plt.figure(figsize=(15,6))\n",
        "ax = sns.barplot(x='Region', y='Total crimes', data=df)\n",
        "plt.xticks(rotation=45,fontsize=10)\n",
        "plt.show()"
      ],
      "metadata": {
        "id": "3oIsJf_VnN20",
        "outputId": "be97ce42-94c7-46fd-ec23-5cb559d2bd56",
        "colab": {
          "base_uri": "https://localhost:8080/",
          "height": 478
        }
      },
      "execution_count": 18,
      "outputs": [
        {
          "output_type": "display_data",
          "data": {
            "text/plain": [
              "<Figure size 1080x432 with 1 Axes>"
            ],
            "image/png": "[encoded data removed]"
          },
          "metadata": {
            "needs_background": "light"
          }
        }
      ]
    },
    {
      "cell_type": "code",
      "source": [
        "df_temp = df[-df['Region'].isin(['Fraud: Action Fraud','Fraud: CIFAS','Fraud: UK Finance'])]"
      ],
      "metadata": {
        "id": "nsPH3eignQP8"
      },
      "execution_count": 19,
      "outputs": []
    },
    {
      "cell_type": "code",
      "source": [
        "plt.figure(figsize=(15,6))\n",
        "ax = sns.barplot(x='Region', y='Total crimes', data=df_temp)\n",
        "plt.xticks(rotation=45,fontsize=13)\n",
        "plt.show()"
      ],
      "metadata": {
        "id": "ECpYa3ihnayU",
        "outputId": "b5b15de9-3292-44f8-822d-8e7452f61806",
        "colab": {
          "base_uri": "https://localhost:8080/",
          "height": 509
        }
      },
      "execution_count": 20,
      "outputs": [
        {
          "output_type": "display_data",
          "data": {
            "text/plain": [
              "<Figure size 1080x432 with 1 Axes>"
            ],
            "image/png": "[encoded data removed]"
          },
          "metadata": {
            "needs_background": "light"
          }
        }
      ]
    },
    {
      "cell_type": "code",
      "source": [
        "df_london = df[df['Region'] == 'London']"
      ],
      "metadata": {
        "id": "dpsD7ALKncxT"
      },
      "execution_count": 21,
      "outputs": []
    },
    {
      "cell_type": "code",
      "source": [
        "plt.figure(figsize=(15,6))\n",
        "ax = sns.barplot(x='Offence', y='Total crimes', data=df_london)\n",
        "plt.xticks(rotation=80,fontsize=8)\n",
        "plt.show()"
      ],
      "metadata": {
        "id": "xNobinFgne7U",
        "outputId": "bb75a283-ddb3-458f-ef0d-817a778d01bc",
        "colab": {
          "base_uri": "https://localhost:8080/",
          "height": 569
        }
      },
      "execution_count": 22,
      "outputs": [
        {
          "output_type": "display_data",
          "data": {
            "text/plain": [
              "<Figure size 1080x432 with 1 Axes>"
            ],
            "image/png": "[encoded data removed]"
          },
          "metadata": {
            "needs_background": "light"
          }
        }
      ]
    },
    {
      "cell_type": "code",
      "source": [
        "offence_list = list(df_london['Offence'].unique())"
      ],
      "metadata": {
        "id": "0xUQSlQkngUc"
      },
      "execution_count": 23,
      "outputs": []
    },
    {
      "cell_type": "code",
      "source": [
        "g = sns.FacetGrid(df_london, col = \"Offence\", height=5,col_wrap=5)\n",
        "g.map(plt.bar, \"Year\",'Total crimes', color = 'red')"
      ],
      "metadata": {
        "id": "P1PFA56JniJL",
        "outputId": "7eef9083-50e1-499b-88cf-4b2cb8995eb8",
        "colab": {
          "base_uri": "https://localhost:8080/",
          "height": 1000
        }
      },
      "execution_count": 24,
      "outputs": [
        {
          "output_type": "execute_result",
          "data": {
            "text/plain": [
              "<seaborn.axisgrid.FacetGrid at 0x7f73af1149d0>"
            ]
          },
          "metadata": {},
          "execution_count": 24
        },
        {
          "output_type": "display_data",
          "data": {
            "text/plain": [
              "<Figure size 1800x1080 with 15 Axes>"
            ],
            "image/png": "[encoded data removed]"
          },
          "metadata": {
            "needs_background": "light"
          }
        }
      ]
    },
    {
      "cell_type": "code",
      "source": [],
      "metadata": {
        "id": "AulHD4vhntmZ"
      },
      "execution_count": null,
      "outputs": []
    }
  ]
}